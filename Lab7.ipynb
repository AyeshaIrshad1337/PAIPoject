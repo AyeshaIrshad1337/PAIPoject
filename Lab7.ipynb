{
  "nbformat": 4,
  "nbformat_minor": 0,
  "metadata": {
    "colab": {
      "provenance": [],
      "authorship_tag": "ABX9TyNZUDCJ0Mi/tejuxbqXQux/",
      "include_colab_link": true
    },
    "kernelspec": {
      "name": "python3",
      "display_name": "Python 3"
    },
    "language_info": {
      "name": "python"
    }
  },
  "cells": [
    {
      "cell_type": "markdown",
      "metadata": {
        "id": "view-in-github",
        "colab_type": "text"
      },
      "source": [
        "<a href=\"https://colab.research.google.com/github/AyeshaIrshad1337/PAIPoject/blob/main/Lab7.ipynb\" target=\"_parent\"><img src=\"https://colab.research.google.com/assets/colab-badge.svg\" alt=\"Open In Colab\"/></a>"
      ]
    },
    {
      "cell_type": "code",
      "execution_count": null,
      "metadata": {
        "id": "H8mW_8ltQfW6"
      },
      "outputs": [],
      "source": [
        "intial_state=[\"O\",\"-\",\"X\",\n",
        "              \"X\",\"-\",\"-\",\n",
        "              \"X\",\"O\",\"O\"]"
      ]
    },
    {
      "cell_type": "code",
      "source": [
        "#printing board\n",
        "def board_print(node):\n",
        "  print(node.utility)\n",
        "  print(node.board[0]+\" | \"+node.board[1]+\" | \"+node.board[2])\n",
        "  print(\"----------\")\n",
        "  print(node.board[3]+\" | \"+node.board[4]+\" | \"+node.board[5])\n",
        "  print(\"----------\")\n",
        "  print(node.board[6]+\" | \"+node.board[7]+\" | \"+node.board[8])"
      ],
      "metadata": {
        "id": "yS4kTklhFCEB"
      },
      "execution_count": null,
      "outputs": []
    },
    {
      "cell_type": "code",
      "source": [
        "#termination function\n",
        "def utility(board):\n",
        "  if(board==\"X\"):\n",
        "    return 1\n",
        "  elif(board==\"O\"):\n",
        "    return -1\n",
        "  else:\n",
        "    return 0    \n",
        "def termination(node):\n",
        "  \n",
        "  if(check_horizontal(node)):\n",
        "    \n",
        "    return True\n",
        "  elif(check_vertical(node)):\n",
        "    return True\n",
        "  elif(check_digonal(node)):\n",
        "    return True\n",
        "  else:\n",
        "    return False      \n",
        "def check_horizontal(node):\n",
        "  if node.board[0] == node.board[1] == node.board[2] and node.board[0] != \"-\":\n",
        "    node.utility=utility(node.board[0])\n",
        "    return True\n",
        "  elif node.board[3] == node.board[4] == node.board[5] and node.board[3] != \"-\":\n",
        "    node.utility=utility(node.board[3])\n",
        "    return True\n",
        "  elif node.board[6] == node.board[7] == node.board[8] and node.board[0] != \"-\":\n",
        "    node.utility=utility(node.board[6])\n",
        "    return True\n",
        "   \n",
        "def check_vertical(node):\n",
        "  if node.board[0] == node.board[3] == node.board[6] and node.board[0] != \"-\":\n",
        "    node.utility=utility(node.board[0])\n",
        "    return True\n",
        "  elif node.board[1] == node.board[4] == node.board[7] and node.board[1] != \"-\":\n",
        "    node.utility=utility(node.board[1])\n",
        "    return True\n",
        "  elif node.board[2] == node.board[5] == node.board[8] and node.board[2] != \"-\":\n",
        "    node.utility=utility(node.board[2])\n",
        "    return True\n",
        "def check_digonal(node):\n",
        "  if node.board[0] == node.board[4] == node.board[8] and node.board[0] != \"-\":\n",
        "    node.utility=utility(node.board[0])\n",
        "    return True\n",
        "  elif node.board[2] == node.board[4] == node.board[6] and node.board[2] != \"-\":\n",
        "    node.utility=utility(node.board[2])\n",
        "    return True\n",
        "  else: \n",
        "    return False  "
      ],
      "metadata": {
        "id": "sYst7W7zFMQu"
      },
      "execution_count": null,
      "outputs": []
    },
    {
      "cell_type": "code",
      "source": [
        "def check_first(node):\n",
        "  count=0\n",
        "  li=[]\n",
        "  n1=node\n",
        "   \n",
        "  for i in range(len(node.board)):\n",
        "   if node.board[i]==\"-\":\n",
        "     li.append(i)\n",
        "     count=count+1\n",
        "  n1.board[li[0]]=\"X\"\n",
        "  board1=n1.board\n",
        "  print(board1)\n",
        "  # for i in range(len(count)): \n",
        "  #   n1.board[li[i]]\n",
        "  #   board1.append(x) \n",
        "  #   o[i]=Node(board1[i])   "
      ],
      "metadata": {
        "id": "Iji4TL1iMb4-"
      },
      "execution_count": null,
      "outputs": []
    },
    {
      "cell_type": "code",
      "source": [],
      "metadata": {
        "id": "Kc8JMhQzyKBM"
      },
      "execution_count": null,
      "outputs": []
    },
    {
      "cell_type": "code",
      "source": [],
      "metadata": {
        "id": "Ul_YkOTINbyC"
      },
      "execution_count": null,
      "outputs": []
    },
    {
      "cell_type": "code",
      "source": [
        "class Node:\n",
        "  \n",
        "  def __init__ (self,board,utility=0,left=None,right=None):\n",
        "    self.utility=utility\n",
        "    self.board=board\n",
        "    self.left=left\n",
        "    self.right=right\n",
        "  # def __str__(self):\n",
        "  #    return board_print(self)   "
      ],
      "metadata": {
        "id": "5ctbb1mtQNfW"
      },
      "execution_count": null,
      "outputs": []
    },
    {
      "cell_type": "code",
      "source": [
        "def mov(node):\n",
        "  player=\"X\"\n",
        "  for i in range(len(node.board)):\n",
        "    if(check(node.board,i)):\n",
        "      node.board[i]=player\n",
        "     \n",
        "      if(termination(node)):\n",
        "        board_print(node)\n",
        "        print(\"\")\n",
        "        return\n",
        "      if player==\"X\":\n",
        "        player=\"O\"\n",
        "      else:\n",
        "        player=\"X\"  \n",
        "   "
      ],
      "metadata": {
        "id": "mANseDsseQvl"
      },
      "execution_count": null,
      "outputs": []
    },
    {
      "cell_type": "code",
      "source": [
        "o=Node(intial_state,0)"
      ],
      "metadata": {
        "id": "SGKkc559iD6I"
      },
      "execution_count": null,
      "outputs": []
    },
    {
      "cell_type": "code",
      "source": [
        "mov(o)"
      ],
      "metadata": {
        "colab": {
          "base_uri": "https://localhost:8080/"
        },
        "id": "l-EZyuijlN14",
        "outputId": "3a034cc3-3239-46d2-e36b-9ecd74570426"
      },
      "execution_count": null,
      "outputs": [
        {
          "output_type": "stream",
          "name": "stdout",
          "text": [
            "-1\n",
            "O | X | X\n",
            "----------\n",
            "X | O | -\n",
            "----------\n",
            "X | O | O\n",
            "\n"
          ]
        }
      ]
    },
    {
      "cell_type": "code",
      "source": [
        "check_first(o)"
      ],
      "metadata": {
        "colab": {
          "base_uri": "https://localhost:8080/"
        },
        "id": "q2iLTyoilSbI",
        "outputId": "7e111b26-9c29-47ad-9416-4a511dab333a"
      },
      "execution_count": null,
      "outputs": [
        {
          "output_type": "stream",
          "name": "stdout",
          "text": [
            "['O', 'X', 'X', 'X', 'X', 'X', 'X', 'O', 'O']\n"
          ]
        }
      ]
    },
    {
      "cell_type": "code",
      "source": [],
      "metadata": {
        "id": "2MBT7HBTvIPk"
      },
      "execution_count": null,
      "outputs": []
    }
  ]
}